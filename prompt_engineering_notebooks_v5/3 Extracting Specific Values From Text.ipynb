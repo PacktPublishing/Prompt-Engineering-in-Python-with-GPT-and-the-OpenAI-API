{
 "cells": [
  {
   "cell_type": "markdown",
   "id": "05fa45d9",
   "metadata": {},
   "source": [
    "# Extracting specific values from freeform text\n",
    "\n",
    "Sometimes information that we need to build a predictive model is contained in freeform text. An LLM can be very useful to extract that information.\n",
    "\n",
    "A Real Estate Automated Valuation Model (AVM) predicts the price for which a property is likely to sell for. The land size of a property is an important input into the AVM. When listing a property, real estate agents sometimes don't input the land size in the \"land size\" field. Sometimes they only write it in the text \"description\" but not in the \"land size\" field.\n",
    "\n",
    "We can build a better AVM if we can extract land size from the description text.\n",
    "\n",
    "A scaled up version of the use case presented here would extract information from a large dataset of real estate listings. We could use the text descriptions from property listings to improve the inputs to our Real Estate AVM. \n"
   ]
  },
  {
   "cell_type": "code",
   "execution_count": 1,
   "id": "510c1f6c",
   "metadata": {},
   "outputs": [],
   "source": [
    "#Step 0: Import the openai package and set the API key. \n",
    "#         I have my API key stored in an environment variable for this demo.\n",
    "#         In prod, you might prefer to use a secret store.\n",
    "import openai\n",
    "import os\n",
    "import backoff\n",
    "import unittest\n",
    "import json\n",
    "\n",
    "openai.api_key  = os.getenv('MY_API_KEY')"
   ]
  },
  {
   "cell_type": "markdown",
   "id": "94c8627c",
   "metadata": {},
   "source": [
    "### A real property description\n",
    "\n",
    "This is a description of a real property that listed by a real estate agent.\n",
    "\n",
    "The text below comes from a real listing on realestate.com.au. The URL is https://www.realestate.com.au/sold/property-house-vic-black+rock-142012720?sourcePage=rea:p4ep:property-details&sourceElement=avm-currently-advertised-view-listing (accessed on 2023-06-15)"
   ]
  },
  {
   "cell_type": "code",
   "execution_count": 2,
   "id": "92e2944b",
   "metadata": {},
   "outputs": [],
   "source": [
    "a_particular_property_description = \"\"\"\n",
    "Premium Beachside Position & Endless Opportunity\n",
    "22A LOVE ST, BLACK ROCK\n",
    "The beach at one end of the street, and shops & cafes at the other, this unique clinker brick home, with timeless warmth and classic comfort, is ready to welcome a new generation, with potential to go big on a contemporary renovation and make the most of one of Bayside's best addresses.\n",
    "\n",
    "Showcasing house-like scale throughout and a radiant range of indoor/outdoor entertaining areas, the layout is filled with natural light from top to bottom. Under high ceilings, a wide-reaching open-plan living and dining room is instantly relaxed in nature, underpinned by a stone-topped kitchen with stainless steel appliances and servery. Timber doors slide open to a north facing deck, perfectly placed for alfresco indulgence. Peaceful, private, and protected, this sanctuary of space is thoughtfully landscaped with lush grass and mature plants. A second living zone with garden access leaves you spoiled for choice and makes for a family friendly design. The ground floor master enjoys walk through robes and a cleverly crafted ensuite/two-way central bathroom with separate WC. The upper level continues to impress with a fantastic rumpus retreat, two large, robed bedrooms (one with a built-in desk), a shared bathroom & separate WC.\n",
    "\n",
    "Additional features include a spacious laundry with external access, storeroom/shed, stunning leadlight windows, custom timber cabinetry, ample storage, ducted heating, split-system heating/cooling, double undercover garage, and off-street parking for a further two cars. Walk along the Bay Trail, have Fish & Chips at Half Moon Bay, and embrace the Bayside way of life. All this, and with Black Rock Village, schools, and transport nearby. Lovingly maintained for immediate live in or lease out options, or alternatively add your modern vision and make your mark in this coveted location!\n",
    "\n",
    "At a glance…\n",
    "\n",
    "- Solid clinker brick home with huge proportions & plenty of potential\n",
    "\n",
    "- 520m2 of land (approx.)\n",
    "\n",
    "- Multiple north facing living zones\n",
    "\n",
    "- Sliding doors to the private alfresco deck and lush garden – great for entertaining\n",
    "\n",
    "- Stone topped kitchen with premium appliances & servery\n",
    "\n",
    "- Ground floor master with walk through robes and two-way ensuite/central bathroom\n",
    "\n",
    "- Upstairs rumpus/retreat plus 2 large bedrooms – perfect for the kids\n",
    "\n",
    "- Undercover parking for 2 cars plus off-street parking for another 2\n",
    "\n",
    "- Beach at the end of the street and Bluff Road shops & cafes at the other\n",
    "\n",
    "- Close to schools, parks, public transport\n",
    "\n",
    "Property Code: 2588\n",
    "\"\"\""
   ]
  },
  {
   "cell_type": "markdown",
   "id": "431ff10c",
   "metadata": {},
   "source": [
    "### Our prompt template"
   ]
  },
  {
   "cell_type": "code",
   "execution_count": 3,
   "id": "11c5b2fb",
   "metadata": {},
   "outputs": [],
   "source": [
    "#This is a \"template\". The reviews are inserted into the template with python's .format() function.\n",
    "##When we specify the JSON template, we double up the curly braces so that they don't conflict with the .format() function.\n",
    "\n",
    "prompt_template_v1 = \"\"\"\n",
    "What is the land size in square meters (m2) in the property description in the triple backticks?\n",
    "\n",
    "```\n",
    "{0}\n",
    "```\n",
    "\n",
    "What is the land size in square meters (m2) in the property description in the triple backticks?\n",
    "\n",
    "Give your answer in JSON format. The land size value should be an integer. \n",
    "The answer must be in square meters, which is abbreviated as \"m2\". \n",
    "Use the following JSON template.\n",
    "\n",
    "{{\n",
    "    \"unit_of_measurement\": The unit of measurement as a string,\n",
    "    \"land_size\": The land size as an integer\n",
    "}}\n",
    "\n",
    "\"\"\""
   ]
  },
  {
   "cell_type": "code",
   "execution_count": 50,
   "id": "4572e144",
   "metadata": {},
   "outputs": [
    {
     "name": "stdout",
     "output_type": "stream",
     "text": [
      "\n",
      "What is the land size in square meters (m2) in the property description in the triple backticks?\n",
      "\n",
      "```\n",
      "\n",
      "Premium Beachside Position & Endless Opportunity\n",
      "22A LOVE ST, BLACK ROCK\n",
      "The beach at one end of the street, and shops & cafes at the other, this unique clinker brick home, with timeless warmth and classic comfort, is ready to welcome a new generation, with potential to go big on a contemporary renovation and make the most of one of Bayside's best addresses.\n",
      "\n",
      "Showcasing house-like scale throughout and a radiant range of indoor/outdoor entertaining areas, the layout is filled with natural light from top to bottom. Under high ceilings, a wide-reaching open-plan living and dining room is instantly relaxed in nature, underpinned by a stone-topped kitchen with stainless steel appliances and servery. Timber doors slide open to a north facing deck, perfectly placed for alfresco indulgence. Peaceful, private, and protected, this sanctuary of space is thoughtfully landscaped with lush grass and mature plants. A second living zone with garden access leaves you spoiled for choice and makes for a family friendly design. The ground floor master enjoys walk through robes and a cleverly crafted ensuite/two-way central bathroom with separate WC. The upper level continues to impress with a fantastic rumpus retreat, two large, robed bedrooms (one with a built-in desk), a shared bathroom & separate WC.\n",
      "\n",
      "Additional features include a spacious laundry with external access, storeroom/shed, stunning leadlight windows, custom timber cabinetry, ample storage, ducted heating, split-system heating/cooling, double undercover garage, and off-street parking for a further two cars. Walk along the Bay Trail, have Fish & Chips at Half Moon Bay, and embrace the Bayside way of life. All this, and with Black Rock Village, schools, and transport nearby. Lovingly maintained for immediate live in or lease out options, or alternatively add your modern vision and make your mark in this coveted location!\n",
      "\n",
      "At a glance…\n",
      "\n",
      "- Solid clinker brick home with huge proportions & plenty of potential\n",
      "\n",
      "- 520m2 of land (approx.)\n",
      "\n",
      "- Multiple north facing living zones\n",
      "\n",
      "- Sliding doors to the private alfresco deck and lush garden – great for entertaining\n",
      "\n",
      "- Stone topped kitchen with premium appliances & servery\n",
      "\n",
      "- Ground floor master with walk through robes and two-way ensuite/central bathroom\n",
      "\n",
      "- Upstairs rumpus/retreat plus 2 large bedrooms – perfect for the kids\n",
      "\n",
      "- Undercover parking for 2 cars plus off-street parking for another 2\n",
      "\n",
      "- Beach at the end of the street and Bluff Road shops & cafes at the other\n",
      "\n",
      "- Close to schools, parks, public transport\n",
      "\n",
      "Property Code: 2588\n",
      "\n",
      "```\n",
      "\n",
      "What is the land size in square meters (m2) in the property description in the triple backticks?\n",
      "\n",
      "Give your answer in JSON format. The land size value should be an integer. \n",
      "The answer must be in square meters, which is abbreviated as \"m2\". \n",
      "Use the following JSON template.\n",
      "\n",
      "{\n",
      "    \"unit_of_measurement\": The unit of measurement as a string,\n",
      "    \"land_size\": The land size as an integer\n",
      "}\n",
      "\n",
      "\n"
     ]
    }
   ],
   "source": [
    "#Make our prompt\n",
    "our_prompt = prompt_template_v1.format(a_particular_property_description)\n",
    "#Print the prompt to verify it.\n",
    "print(our_prompt)"
   ]
  },
  {
   "cell_type": "code",
   "execution_count": 5,
   "id": "e12697bd",
   "metadata": {},
   "outputs": [],
   "source": [
    "#We are using the backoff package to handle the rate limit error\n",
    "## We wrap the openai.ChatCompletion.create() in our own function \n",
    "### and use the @backoff.on_exception() decorator.\n",
    "@backoff.on_exception(backoff.expo, openai.RateLimitError)\n",
    "def query_llm_single_turn(prompt, model=\"gpt-3.5-turbo\", temperature=0, **kwargs):\n",
    "    \"\"\"\n",
    "    This function queries the openai ChatCompletion API, with exponential backoff.\n",
    "    \n",
    "    Args:\n",
    "        prompt(str): The prompt  \n",
    "        model(str): The type of model to use. The default is \"gpt-3.5-turbo\".\n",
    "        temperature(float): The temperature to use. The default is 0.\n",
    "        **kwargs: Additional keyword arguments to be passed to openai.ChatCompletion.create()\n",
    "    Returns:\n",
    "        An opanai ChatCompletion object.\n",
    "    \"\"\"\n",
    "    ##Set up the messages list\n",
    "    messages = [{\"role\": \"user\", \"content\": prompt}]\n",
    "    return openai.chat.completions.create(\n",
    "        model=model,    \n",
    "        messages=messages,\n",
    "        temperature=temperature,\n",
    "        **kwargs)"
   ]
  },
  {
   "cell_type": "code",
   "execution_count": 6,
   "id": "252fac1f",
   "metadata": {},
   "outputs": [
    {
     "name": "stdout",
     "output_type": "stream",
     "text": [
      "{\n",
      "    \"unit_of_measurement\": \"m2\",\n",
      "    \"land_size\": 520\n",
      "}\n"
     ]
    }
   ],
   "source": [
    "response = query_llm_single_turn(our_prompt)\n",
    "the_reply = response.choices[0].message.content\n",
    "print(the_reply)"
   ]
  },
  {
   "cell_type": "code",
   "execution_count": 7,
   "id": "696e029b",
   "metadata": {},
   "outputs": [
    {
     "name": "stderr",
     "output_type": "stream",
     "text": [
      "test_valid_json (__main__.SingleReviewPromptUnitTest) ... ok\n",
      "\n",
      "----------------------------------------------------------------------\n",
      "Ran 1 test in 0.001s\n",
      "\n",
      "OK\n"
     ]
    },
    {
     "data": {
      "text/plain": [
       "<unittest.main.TestProgram at 0x7f1aa84aa040>"
      ]
     },
     "execution_count": 7,
     "metadata": {},
     "output_type": "execute_result"
    }
   ],
   "source": [
    "class SingleReviewPromptUnitTest(unittest.TestCase):\n",
    "    def test_valid_json(self):\n",
    "        #Tests that the LLM returns valid JSON\n",
    "        #1. Parse the JSON into a dictionary object.\n",
    "        #   Did that work?\n",
    "        response_as_dict = json.loads(the_reply)\n",
    "        self.assertIsInstance(response_as_dict, dict)\n",
    "        #2. Is there a \"unit_of_measurement\" key? \n",
    "        self.assertIn(\"unit_of_measurement\", response_as_dict)\n",
    "        #3. Is there a \"land_size\" key?\n",
    "        self.assertIn(\"land_size\", response_as_dict)\n",
    "        #4. Is the land size correct?\n",
    "        self.assertEqual(520, response_as_dict[\"land_size\"])\n",
    "        #5. Is the unit of measurement m2?\n",
    "        self.assertEqual(\"m2\", response_as_dict[\"unit_of_measurement\"])\n",
    "\n",
    "        \n",
    "unittest.main(module=__name__, argv=[''], exit=False, verbosity=2)"
   ]
  },
  {
   "cell_type": "markdown",
   "id": "3da43c22",
   "metadata": {},
   "source": [
    "# Using JSON Mode\n",
    "\n",
    "JSON Mode gaurantees that the response will be valid JSON. The above prompt has returned valid JSON on its own. Sometimes LLMs don't return valid JSON even when instructed. OpenAI has introduced a new feature that gaurantees valid JSON.\n",
    "\n",
    "As of Decemeber 2023, the JSON mode feature only works with `gpt-3.5-turbo-1106` and `gpt-4-1106-preview`. You can check the JSON mode documentation to see which models it's available for today. Here's the link: [https://platform.openai.com/docs/guides/text-generation/json-mode](https://platform.openai.com/docs/guides/text-generation/json-mode)\n",
    "\n",
    "And here's the link to the [Chat Completion API documentation](https://platform.openai.com/docs/api-reference/chat/create)\n",
    "\n",
    "Now let's see how JSON mode works."
   ]
  },
  {
   "cell_type": "code",
   "execution_count": 51,
   "id": "2b5279e5",
   "metadata": {},
   "outputs": [
    {
     "name": "stdout",
     "output_type": "stream",
     "text": [
      "{\n",
      "    \"unit_of_measurement\": \"m2\",\n",
      "    \"land_size\": 520\n",
      "}\n"
     ]
    }
   ],
   "source": [
    "#We can use our query_llm_single_turn() function, but we need to switch models and include the response_format parameter\n",
    "response = query_llm_single_turn(\n",
    "    our_prompt, \n",
    "    model=\"gpt-3.5-turbo-1106\", \n",
    "    response_format={ \"type\": \"json_object\" }\n",
    ")\n",
    "the_reply = response.choices[0].message.content\n",
    "print(the_reply)"
   ]
  },
  {
   "cell_type": "code",
   "execution_count": 7,
   "id": "a6f0ef25",
   "metadata": {},
   "outputs": [
    {
     "data": {
      "text/plain": [
       "'stop'"
      ]
     },
     "execution_count": 7,
     "metadata": {},
     "output_type": "execute_result"
    }
   ],
   "source": [
    "#It's important to check the finish_reason attribute. As we will see shortly.\n",
    "response.choices[0].finish_reason"
   ]
  },
  {
   "cell_type": "code",
   "execution_count": 8,
   "id": "489ee1c2",
   "metadata": {},
   "outputs": [],
   "source": [
    "#How the call to openai.ChatCompletion.Create() looks without our wrapper function\n",
    "messages = [{\"role\": \"user\", \"content\": our_prompt}]\n",
    "response = openai.chat.completions.create(\n",
    "                model=\"gpt-3.5-turbo-1106\",    \n",
    "                messages=messages,\n",
    "                temperature=0,\n",
    "                response_format={ \"type\": \"json_object\" })"
   ]
  },
  {
   "cell_type": "code",
   "execution_count": 9,
   "id": "04a0ed3e",
   "metadata": {},
   "outputs": [
    {
     "name": "stdout",
     "output_type": "stream",
     "text": [
      "{\n",
      "    \"unit_of_measurement\": \"m2\",\n",
      "    \"land_size\": 520\n",
      "}\n"
     ]
    }
   ],
   "source": [
    "the_reply = response.choices[0].message.content\n",
    "print(the_reply)"
   ]
  },
  {
   "cell_type": "code",
   "execution_count": 10,
   "id": "335d2ee3",
   "metadata": {},
   "outputs": [
    {
     "data": {
      "text/plain": [
       "'stop'"
      ]
     },
     "execution_count": 10,
     "metadata": {},
     "output_type": "execute_result"
    }
   ],
   "source": [
    "response.choices[0].finish_reason"
   ]
  },
  {
   "cell_type": "markdown",
   "id": "61c6a0e3",
   "metadata": {},
   "source": [
    "### Note: When using JSON mode, we MUST instruct the LLM to output JSON. \n",
    "We cannot just turn JSON mode \"on\" and hope for the best."
   ]
  },
  {
   "cell_type": "markdown",
   "id": "aa82ff7d",
   "metadata": {},
   "source": [
    "# Improving our Real Estate Listing Summary Prompt\n",
    "\n",
    "We have a prompt template that extracts the land size from real estate listings. Now let's improve our prompt to extract more information."
   ]
  },
  {
   "cell_type": "code",
   "execution_count": 11,
   "id": "760a0c07",
   "metadata": {},
   "outputs": [],
   "source": [
    "prompt_template_v2 = \"\"\"\n",
    "The property_description is in the XML tags. The property_description describes the real estate property.\n",
    "Summarise the property_description as specified by the JSON template.\n",
    "\n",
    "<property_description>\n",
    "{0}\n",
    "</property_description>\n",
    "\n",
    "The property_description is in the XML tags. The property_description describes the real estate property.\n",
    "Summarise the property_description as specified by the JSON template.\n",
    "\n",
    "\n",
    "Use the following JSON template.\n",
    "{{\n",
    "    \"newly_built_renovated\": Is the property newly built, renovated, or neither? Choose one of the following options: [\"newly built\", \"renovated\", \"neither\"],\n",
    "    \"outdoor_deck\": Does the property have an outdoor deck? Choose one of the following options: [\"yes\",\"no\",\"unkown\"]\n",
    "    \"construction_materials: What materials is the property built from? Or \"NULL\" if you don't know.,\n",
    "    \"parking_spaces\": How many cars can i park on the property?,\n",
    "    \"land_size_unit_of_measurement\": The unit of measurement as a string or \"NULL\" if you don't know.,\n",
    "    \"land_size\": The land size as an integer or 0 if you don't know\n",
    "}}\n",
    "\n",
    "\"\"\""
   ]
  },
  {
   "cell_type": "code",
   "execution_count": 13,
   "id": "32cc85d6",
   "metadata": {},
   "outputs": [
    {
     "name": "stdout",
     "output_type": "stream",
     "text": [
      "\n",
      "The property_description is in the XML tags. The property_description describes the real estate property.\n",
      "Summarise the property_description as specified by the JSON template.\n",
      "\n",
      "<property_description>\n",
      "\n",
      "Premium Beachside Position & Endless Opportunity\n",
      "22A LOVE ST, BLACK ROCK\n",
      "The beach at one end of the street, and shops & cafes at the other, this unique clinker brick home, with timeless warmth and classic comfort, is ready to welcome a new generation, with potential to go big on a contemporary renovation and make the most of one of Bayside's best addresses.\n",
      "\n",
      "Showcasing house-like scale throughout and a radiant range of indoor/outdoor entertaining areas, the layout is filled with natural light from top to bottom. Under high ceilings, a wide-reaching open-plan living and dining room is instantly relaxed in nature, underpinned by a stone-topped kitchen with stainless steel appliances and servery. Timber doors slide open to a north facing deck, perfectly placed for alfresco indulgence. Peaceful, private, and protected, this sanctuary of space is thoughtfully landscaped with lush grass and mature plants. A second living zone with garden access leaves you spoiled for choice and makes for a family friendly design. The ground floor master enjoys walk through robes and a cleverly crafted ensuite/two-way central bathroom with separate WC. The upper level continues to impress with a fantastic rumpus retreat, two large, robed bedrooms (one with a built-in desk), a shared bathroom & separate WC.\n",
      "\n",
      "Additional features include a spacious laundry with external access, storeroom/shed, stunning leadlight windows, custom timber cabinetry, ample storage, ducted heating, split-system heating/cooling, double undercover garage, and off-street parking for a further two cars. Walk along the Bay Trail, have Fish & Chips at Half Moon Bay, and embrace the Bayside way of life. All this, and with Black Rock Village, schools, and transport nearby. Lovingly maintained for immediate live in or lease out options, or alternatively add your modern vision and make your mark in this coveted location!\n",
      "\n",
      "At a glance…\n",
      "\n",
      "- Solid clinker brick home with huge proportions & plenty of potential\n",
      "\n",
      "- 520m2 of land (approx.)\n",
      "\n",
      "- Multiple north facing living zones\n",
      "\n",
      "- Sliding doors to the private alfresco deck and lush garden – great for entertaining\n",
      "\n",
      "- Stone topped kitchen with premium appliances & servery\n",
      "\n",
      "- Ground floor master with walk through robes and two-way ensuite/central bathroom\n",
      "\n",
      "- Upstairs rumpus/retreat plus 2 large bedrooms – perfect for the kids\n",
      "\n",
      "- Undercover parking for 2 cars plus off-street parking for another 2\n",
      "\n",
      "- Beach at the end of the street and Bluff Road shops & cafes at the other\n",
      "\n",
      "- Close to schools, parks, public transport\n",
      "\n",
      "Property Code: 2588\n",
      "\n",
      "</property_description>\n",
      "\n",
      "The property_description is in the XML tags. The property_description describes the real estate property.\n",
      "Summarise the property_description as specified by the JSON template.\n",
      "\n",
      "\n",
      "Use the following JSON template.\n",
      "{\n",
      "    \"newly_built_renovated\": Is the property newly built, renovated, or neither? Choose one of the following options: [\"newly built\", \"renovated\", \"neither\"],\n",
      "    \"outdoor_deck\": Does the property have an outdoor deck? Choose one of the following options: [\"yes\",\"no\",\"unkown\"]\n",
      "    \"construction_materials: What materials is the property built from? Or \"NULL\" if you don't know.,\n",
      "    \"parking_spaces\": How many cars can i park on the property?,\n",
      "    \"land_size_unit_of_measurement\": The unit of measurement as a string or \"NULL\" if you don't know.,\n",
      "    \"land_size\": The land size as an integer or 0 if you don't know\n",
      "}\n",
      "\n",
      "\n"
     ]
    }
   ],
   "source": [
    "#Make our prompt\n",
    "our_prompt = prompt_template_v2.format(a_particular_property_description)\n",
    "#Print the prompt to verify it.\n",
    "print(our_prompt)"
   ]
  },
  {
   "cell_type": "code",
   "execution_count": 14,
   "id": "4aaa9e0f",
   "metadata": {},
   "outputs": [
    {
     "name": "stdout",
     "output_type": "stream",
     "text": [
      "{\n",
      "    \"newly_built_renovated\": \"renovated\",\n",
      "    \"outdoor_deck\": \"yes\",\n",
      "    \"construction_materials\": \"clinker brick\",\n",
      "    \"parking_spaces\": 4,\n",
      "    \"land_size_unit_of_measurement\": \"m2\",\n",
      "    \"land_size\": 520\n",
      "}\n"
     ]
    }
   ],
   "source": [
    "#We can use our query_llm_single_turn() function, but we need to switch models and include the response_format parameter\n",
    "response = query_llm_single_turn(our_prompt, model=\"gpt-3.5-turbo-1106\", response_format={ \"type\": \"json_object\" })\n",
    "the_reply = response.choices[0].message.content\n",
    "print(the_reply)"
   ]
  },
  {
   "cell_type": "markdown",
   "id": "f1e86617",
   "metadata": {},
   "source": [
    "## GPT 3.5 makes a mistake. Let's try GPT 4."
   ]
  },
  {
   "cell_type": "code",
   "execution_count": 15,
   "id": "47b3f2d6",
   "metadata": {},
   "outputs": [
    {
     "name": "stdout",
     "output_type": "stream",
     "text": [
      "{\n",
      "    \"newly_built_renovated\": \"neither\",\n",
      "    \"outdoor_deck\": \"yes\",\n",
      "    \"construction_materials\": \"clinker brick\",\n",
      "    \"parking_spaces\": 4,\n",
      "    \"land_size_unit_of_measurement\": \"m2\",\n",
      "    \"land_size\": 520\n",
      "}\n"
     ]
    }
   ],
   "source": [
    "#We can use our query_llm_single_turn() function, but we need to switch models and include the response_format parameter\n",
    "response = query_llm_single_turn(our_prompt, model=\"gpt-4-1106-preview\", response_format={ \"type\": \"json_object\" })\n",
    "the_reply = response.choices[0].message.content\n",
    "print(the_reply)"
   ]
  },
  {
   "cell_type": "markdown",
   "id": "90f582bb",
   "metadata": {},
   "source": [
    "## GPT 4 succeeds, but GPT 3.5 fails. But can we write a prompt that will work with GPT 3.5?"
   ]
  },
  {
   "cell_type": "code",
   "execution_count": 32,
   "id": "28debd87",
   "metadata": {},
   "outputs": [],
   "source": [
    "prompt_template_v3 = \"\"\"\n",
    "The property_description is in the XML tags. The property_description describes the real estate property.\n",
    "Summarise the property_description as specified by the JSON template.\n",
    "\n",
    "<property_description>\n",
    "{0}\n",
    "</property_description>\n",
    "\n",
    "The property_description is in the XML tags. The property_description describes the real estate property.\n",
    "Summarise the property_description as specified by the JSON template.\n",
    "\n",
    "\n",
    "Use the following JSON template.\n",
    "{{\n",
    "    \"quotes_about_newly_built_renovated\": What does the property_description say about any recent renovations, if the property was recently constructed, or if there is potential to renovate? Quote exact passages from the text.,\n",
    "    \"newly_built_renovated\": Is the property newly built, renovated, or neither? Choose one of the following options: [\"newly built\", \"renovated\", \"neither\"],\n",
    "    \"outdoor_deck\": Does the property have an outdoor deck? Choose one of the following options: [\"yes\",\"no\",\"unkown\"]\n",
    "    \"construction_materials: What materials is the property built from? Or \"NULL\" if you don't know.,\n",
    "    \"parking_spaces\": How many cars can i park on the property?,\n",
    "    \"land_size_unit_of_measurement\": The unit of measurement as a string or \"NULL\" if you don't know.,\n",
    "    \"land_size\": The land size as an integer or 0 if you don't know\n",
    "}}\n",
    "\n",
    "\"\"\""
   ]
  },
  {
   "cell_type": "code",
   "execution_count": 33,
   "id": "bd22f9b1",
   "metadata": {},
   "outputs": [
    {
     "name": "stdout",
     "output_type": "stream",
     "text": [
      "\n",
      "The property_description is in the XML tags. The property_description describes the real estate property.\n",
      "Summarise the property_description as specified by the JSON template.\n",
      "\n",
      "<property_description>\n",
      "\n",
      "Premium Beachside Position & Endless Opportunity\n",
      "22A LOVE ST, BLACK ROCK\n",
      "The beach at one end of the street, and shops & cafes at the other, this unique clinker brick home, with timeless warmth and classic comfort, is ready to welcome a new generation, with potential to go big on a contemporary renovation and make the most of one of Bayside's best addresses.\n",
      "\n",
      "Showcasing house-like scale throughout and a radiant range of indoor/outdoor entertaining areas, the layout is filled with natural light from top to bottom. Under high ceilings, a wide-reaching open-plan living and dining room is instantly relaxed in nature, underpinned by a stone-topped kitchen with stainless steel appliances and servery. Timber doors slide open to a north facing deck, perfectly placed for alfresco indulgence. Peaceful, private, and protected, this sanctuary of space is thoughtfully landscaped with lush grass and mature plants. A second living zone with garden access leaves you spoiled for choice and makes for a family friendly design. The ground floor master enjoys walk through robes and a cleverly crafted ensuite/two-way central bathroom with separate WC. The upper level continues to impress with a fantastic rumpus retreat, two large, robed bedrooms (one with a built-in desk), a shared bathroom & separate WC.\n",
      "\n",
      "Additional features include a spacious laundry with external access, storeroom/shed, stunning leadlight windows, custom timber cabinetry, ample storage, ducted heating, split-system heating/cooling, double undercover garage, and off-street parking for a further two cars. Walk along the Bay Trail, have Fish & Chips at Half Moon Bay, and embrace the Bayside way of life. All this, and with Black Rock Village, schools, and transport nearby. Lovingly maintained for immediate live in or lease out options, or alternatively add your modern vision and make your mark in this coveted location!\n",
      "\n",
      "At a glance…\n",
      "\n",
      "- Solid clinker brick home with huge proportions & plenty of potential\n",
      "\n",
      "- 520m2 of land (approx.)\n",
      "\n",
      "- Multiple north facing living zones\n",
      "\n",
      "- Sliding doors to the private alfresco deck and lush garden – great for entertaining\n",
      "\n",
      "- Stone topped kitchen with premium appliances & servery\n",
      "\n",
      "- Ground floor master with walk through robes and two-way ensuite/central bathroom\n",
      "\n",
      "- Upstairs rumpus/retreat plus 2 large bedrooms – perfect for the kids\n",
      "\n",
      "- Undercover parking for 2 cars plus off-street parking for another 2\n",
      "\n",
      "- Beach at the end of the street and Bluff Road shops & cafes at the other\n",
      "\n",
      "- Close to schools, parks, public transport\n",
      "\n",
      "Property Code: 2588\n",
      "\n",
      "</property_description>\n",
      "\n",
      "The property_description is in the XML tags. The property_description describes the real estate property.\n",
      "Summarise the property_description as specified by the JSON template.\n",
      "\n",
      "\n",
      "Use the following JSON template.\n",
      "{\n",
      "    \"quotes_about_newly_built_renovated\": What does the property_description say about any recent renovations, if the property was recently constructed, or if there is potential to renovate? Quote exact passages from the text.,\n",
      "    \"newly_built_renovated\": Is the property newly built, renovated, or neither? Choose one of the following options: [\"newly built\", \"renovated\", \"neither\"],\n",
      "    \"outdoor_deck\": Does the property have an outdoor deck? Choose one of the following options: [\"yes\",\"no\",\"unkown\"]\n",
      "    \"construction_materials: What materials is the property built from? Or \"NULL\" if you don't know.,\n",
      "    \"parking_spaces\": How many cars can i park on the property?,\n",
      "    \"land_size_unit_of_measurement\": The unit of measurement as a string or \"NULL\" if you don't know.,\n",
      "    \"land_size\": The land size as an integer or 0 if you don't know\n",
      "}\n",
      "\n",
      "\n"
     ]
    }
   ],
   "source": [
    "#Make our prompt\n",
    "our_prompt = prompt_template_v3.format(a_particular_property_description)\n",
    "#Print the prompt to verify it.\n",
    "print(our_prompt)"
   ]
  },
  {
   "cell_type": "code",
   "execution_count": 34,
   "id": "9dc543de",
   "metadata": {},
   "outputs": [
    {
     "name": "stdout",
     "output_type": "stream",
     "text": [
      "{\n",
      "    \"quotes_about_newly_built_renovated\": \"this unique clinker brick home, with timeless warmth and classic comfort, is ready to welcome a new generation, with potential to go big on a contemporary renovation\",\n",
      "    \"newly_built_renovated\": \"neither\",\n",
      "    \"outdoor_deck\": \"yes\",\n",
      "    \"construction_materials\": \"clinker brick\",\n",
      "    \"parking_spaces\": 4,\n",
      "    \"land_size_unit_of_measurement\": \"m2\",\n",
      "    \"land_size\": 520\n",
      "}\n"
     ]
    }
   ],
   "source": [
    "#We can use our query_llm_single_turn() function, but we need to switch models and include the response_format parameter\n",
    "response = query_llm_single_turn(our_prompt, model=\"gpt-3.5-turbo-1106\", response_format={ \"type\": \"json_object\" })\n",
    "the_reply = response.choices[0].message.content\n",
    "print(the_reply)"
   ]
  },
  {
   "cell_type": "markdown",
   "id": "6e8b6096",
   "metadata": {},
   "source": [
    "# Prompt Engineering is about finding the prompt that will work with the LLM that you have. \n",
    "Your employer may only have budget for GPT 3.5. Because GPT 4 is 10 times more expensive. The costs add up when you are sending 1000's of queries per day."
   ]
  },
  {
   "cell_type": "markdown",
   "id": "c1da9f58",
   "metadata": {},
   "source": [
    "# Demonstration of finish_reason and max_tokens"
   ]
  },
  {
   "cell_type": "code",
   "execution_count": 41,
   "id": "0028614f",
   "metadata": {},
   "outputs": [],
   "source": [
    "prompt_template_v4 = \"\"\"\n",
    "The property_description is in the XML tags. The property_description describes the real estate property.\n",
    "Summarise the property_description as specified by the JSON template.\n",
    "\n",
    "<property_description>\n",
    "{0}\n",
    "</property_description>\n",
    "\n",
    "The property_description is in the XML tags. The property_description describes the real estate property.\n",
    "Summarise the property_description as specified by the JSON template.\n",
    "\n",
    "\n",
    "Use the following JSON template.\n",
    "{{\n",
    "    \"quotes_about_newly_built_renovated\": What does the property_description say about any recent renovations, if the property was recently constructed, or if there is potential to renovate? Quote exact passages from the text.,\n",
    "    \"newly_built_renovated\": Is the property newly built, renovated, or neither? Choose one of the following options: [\"newly built\", \"renovated\", \"neither\"],\n",
    "    \"outdoor_deck\": Does the property have an outdoor deck? Choose one of the following options: [\"yes\",\"no\",\"unkown\"]\n",
    "    \"construction_materials: What materials is the property built from? Or \"NULL\" if you don't know.,\n",
    "    \"parking_spaces\": How many cars can i park on the property?,\n",
    "    \"land_size_unit_of_measurement\": The unit of measurement as a string or \"NULL\" if you don't know.,\n",
    "    \"land_size\": The land size as an integer or 0 if you don't know.,\n",
    "    \"property_description_summary\": Summarise the property_description. Focus on newly_built_renovated, outdoor_deck, construction_materials, parking_spaces, and land_size.,\n",
    "    \"property_description_summary_translation\": Translate the property_description_summary into Chinese Simplified.,    \n",
    "}}\n",
    "\n",
    "\"\"\""
   ]
  },
  {
   "cell_type": "code",
   "execution_count": 42,
   "id": "537620f8",
   "metadata": {},
   "outputs": [
    {
     "name": "stdout",
     "output_type": "stream",
     "text": [
      "\n",
      "The property_description is in the XML tags. The property_description describes the real estate property.\n",
      "Summarise the property_description as specified by the JSON template.\n",
      "\n",
      "<property_description>\n",
      "\n",
      "Premium Beachside Position & Endless Opportunity\n",
      "22A LOVE ST, BLACK ROCK\n",
      "The beach at one end of the street, and shops & cafes at the other, this unique clinker brick home, with timeless warmth and classic comfort, is ready to welcome a new generation, with potential to go big on a contemporary renovation and make the most of one of Bayside's best addresses.\n",
      "\n",
      "Showcasing house-like scale throughout and a radiant range of indoor/outdoor entertaining areas, the layout is filled with natural light from top to bottom. Under high ceilings, a wide-reaching open-plan living and dining room is instantly relaxed in nature, underpinned by a stone-topped kitchen with stainless steel appliances and servery. Timber doors slide open to a north facing deck, perfectly placed for alfresco indulgence. Peaceful, private, and protected, this sanctuary of space is thoughtfully landscaped with lush grass and mature plants. A second living zone with garden access leaves you spoiled for choice and makes for a family friendly design. The ground floor master enjoys walk through robes and a cleverly crafted ensuite/two-way central bathroom with separate WC. The upper level continues to impress with a fantastic rumpus retreat, two large, robed bedrooms (one with a built-in desk), a shared bathroom & separate WC.\n",
      "\n",
      "Additional features include a spacious laundry with external access, storeroom/shed, stunning leadlight windows, custom timber cabinetry, ample storage, ducted heating, split-system heating/cooling, double undercover garage, and off-street parking for a further two cars. Walk along the Bay Trail, have Fish & Chips at Half Moon Bay, and embrace the Bayside way of life. All this, and with Black Rock Village, schools, and transport nearby. Lovingly maintained for immediate live in or lease out options, or alternatively add your modern vision and make your mark in this coveted location!\n",
      "\n",
      "At a glance…\n",
      "\n",
      "- Solid clinker brick home with huge proportions & plenty of potential\n",
      "\n",
      "- 520m2 of land (approx.)\n",
      "\n",
      "- Multiple north facing living zones\n",
      "\n",
      "- Sliding doors to the private alfresco deck and lush garden – great for entertaining\n",
      "\n",
      "- Stone topped kitchen with premium appliances & servery\n",
      "\n",
      "- Ground floor master with walk through robes and two-way ensuite/central bathroom\n",
      "\n",
      "- Upstairs rumpus/retreat plus 2 large bedrooms – perfect for the kids\n",
      "\n",
      "- Undercover parking for 2 cars plus off-street parking for another 2\n",
      "\n",
      "- Beach at the end of the street and Bluff Road shops & cafes at the other\n",
      "\n",
      "- Close to schools, parks, public transport\n",
      "\n",
      "Property Code: 2588\n",
      "\n",
      "</property_description>\n",
      "\n",
      "The property_description is in the XML tags. The property_description describes the real estate property.\n",
      "Summarise the property_description as specified by the JSON template.\n",
      "\n",
      "\n",
      "Use the following JSON template.\n",
      "{\n",
      "    \"quotes_about_newly_built_renovated\": What does the property_description say about any recent renovations, if the property was recently constructed, or if there is potential to renovate? Quote exact passages from the text.,\n",
      "    \"newly_built_renovated\": Is the property newly built, renovated, or neither? Choose one of the following options: [\"newly built\", \"renovated\", \"neither\"],\n",
      "    \"outdoor_deck\": Does the property have an outdoor deck? Choose one of the following options: [\"yes\",\"no\",\"unkown\"]\n",
      "    \"construction_materials: What materials is the property built from? Or \"NULL\" if you don't know.,\n",
      "    \"parking_spaces\": How many cars can i park on the property?,\n",
      "    \"land_size_unit_of_measurement\": The unit of measurement as a string or \"NULL\" if you don't know.,\n",
      "    \"land_size\": The land size as an integer or 0 if you don't know.,\n",
      "    \"property_description_summary\": Summarise the property_description. Focus on newly_built_renovated, outdoor_deck, construction_materials, parking_spaces, and land_size.,\n",
      "    \"property_description_summary_translation\": Translate the property_description_summary into Chinese Simplified.,    \n",
      "}\n",
      "\n",
      "\n"
     ]
    }
   ],
   "source": [
    "#Make our prompt\n",
    "our_prompt = prompt_template_v4.format(a_particular_property_description)\n",
    "#Print the prompt to verify it.\n",
    "print(our_prompt)"
   ]
  },
  {
   "cell_type": "code",
   "execution_count": 43,
   "id": "2a3da52f",
   "metadata": {},
   "outputs": [
    {
     "name": "stdout",
     "output_type": "stream",
     "text": [
      "{\n",
      "    \"quotes_about_newly_built_renovated\": \"this unique clinker brick home, with timeless warmth and classic comfort, is ready to welcome a new generation, with potential to go big on a contemporary renovation\",\n",
      "    \"newly_built_renovated\": \"neither\",\n",
      "    \"outdoor_deck\": \"yes\",\n",
      "    \"construction_materials\": \"clinker brick\",\n",
      "    \"parking_spaces\": 4,\n",
      "    \"land_size_unit_of_measurement\": \"m2\",\n",
      "    \"land_size\": 520,\n",
      "    \"property_description_summary\": \"The property is not newly built or renovated, but it has a potential for contemporary renovation. It has a clinker brick construction, a spacious outdoor deck, parking for 4 cars, and a land size of 520m2.\",\n",
      "    \"property_description_summary_translation\": \"该物业既不是新建的也没有翻新，但有潜力进行现代化装修。它采用石砖建造，拥有宽敞的户外阳台，可停放4辆汽车，土地面积为520平方米。\"\n",
      "}\n"
     ]
    }
   ],
   "source": [
    "#We can use our query_llm_single_turn() function, but we need to switch models and include the response_format parameter\n",
    "response = query_llm_single_turn(our_prompt, model=\"gpt-3.5-turbo-1106\", response_format={ \"type\": \"json_object\" })\n",
    "the_reply = response.choices[0].message.content\n",
    "print(the_reply)"
   ]
  },
  {
   "cell_type": "code",
   "execution_count": 44,
   "id": "9cf9556b",
   "metadata": {},
   "outputs": [
    {
     "data": {
      "text/plain": [
       "'stop'"
      ]
     },
     "execution_count": 44,
     "metadata": {},
     "output_type": "execute_result"
    }
   ],
   "source": [
    "response.choices[0].finish_reason"
   ]
  },
  {
   "cell_type": "code",
   "execution_count": 47,
   "id": "e12df6e0",
   "metadata": {},
   "outputs": [
    {
     "name": "stdout",
     "output_type": "stream",
     "text": [
      "{\n",
      "    \"quotes_about_newly_built_renovated\": \"this unique clinker brick home, with timeless warmth and classic comfort, is ready to welcome a new generation, with potential to go big on a contemporary renovation\",\n",
      "    \"newly_built_renovated\": \"neither\",\n",
      "    \"outdoor_deck\": \"yes\",\n",
      "    \"construction_materials\": \"clinker brick\",\n",
      "    \"parking_spaces\": 4,\n",
      "    \"land_size_unit_of_measurement\": \"m2\",\n",
      "    \"land_size\": 520,\n",
      "    \"property_description_summary\": \"The property is not newly built or renovated, but it has a potential for contemporary renovation. It has a outdoor deck, is built from clinker brick, has parking spaces for 4 cars, and a land size of 520m2.\",\n",
      "    \"property_description_summary\n"
     ]
    }
   ],
   "source": [
    "#Now we set a limit on the maximum number of tokens that the query can return.\n",
    "## We use the max_tokens parameter\n",
    "response = query_llm_single_turn(\n",
    "    our_prompt, \n",
    "    model=\"gpt-3.5-turbo-1106\", \n",
    "    response_format={ \"type\": \"json_object\" },\n",
    "    max_tokens = 170 #The max_tokens parameter limits the maximum number of toekns that the LLM can return.\n",
    "    )\n",
    "the_reply = response.choices[0].message.content\n",
    "print(the_reply)"
   ]
  },
  {
   "cell_type": "code",
   "execution_count": 48,
   "id": "2746cf9c",
   "metadata": {},
   "outputs": [
    {
     "data": {
      "text/plain": [
       "'length'"
      ]
     },
     "execution_count": 48,
     "metadata": {},
     "output_type": "execute_result"
    }
   ],
   "source": [
    "response.choices[0].finish_reason"
   ]
  },
  {
   "cell_type": "markdown",
   "id": "c2334d25",
   "metadata": {},
   "source": [
    "## We get invalid JSON when we run out of tokens. finish_reason = 'length'"
   ]
  },
  {
   "cell_type": "markdown",
   "id": "81fc8e1b",
   "metadata": {},
   "source": [
    "### JSON mode caveat: The JSON it not guaranteed to match the template that we specify.\n",
    "JSON mode gaurantees valid JSON. But it does not gaurantee that it will match our template."
   ]
  },
  {
   "cell_type": "code",
   "execution_count": null,
   "id": "8b185a4d",
   "metadata": {},
   "outputs": [],
   "source": []
  },
  {
   "cell_type": "markdown",
   "id": "b8597f8d",
   "metadata": {},
   "source": [
    "Copyright &copy; Slava Razbash and AI Upskill (aiupskill.io)"
   ]
  },
  {
   "cell_type": "code",
   "execution_count": null,
   "id": "af9372da",
   "metadata": {},
   "outputs": [],
   "source": []
  }
 ],
 "metadata": {
  "kernelspec": {
   "display_name": "Python 3 (ipykernel)",
   "language": "python",
   "name": "python3"
  },
  "language_info": {
   "codemirror_mode": {
    "name": "ipython",
    "version": 3
   },
   "file_extension": ".py",
   "mimetype": "text/x-python",
   "name": "python",
   "nbconvert_exporter": "python",
   "pygments_lexer": "ipython3",
   "version": "3.8.10"
  }
 },
 "nbformat": 4,
 "nbformat_minor": 5
}
